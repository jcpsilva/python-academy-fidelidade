{
 "cells": [
  {
   "cell_type": "markdown",
   "metadata": {
    "tags": []
   },
   "source": [
    "# Exercises\n",
    "\n",
    "\n",
    "## General Python\n",
    "\n",
    "Let's build a simple **form application**. Your task will be to **ask the users some information**, **store it** in variables, perform **simple operations** and **display a user report** in the end. The form must:\n",
    "  1. Ask for the user's name, weirdest habit, favourite hobbie and best quality;\n",
    "  2. Store the informations in variables, which are easily readable;\n",
    "  3. Display a profile report about the user."
   ]
  },
  {
   "cell_type": "code",
   "execution_count": 32,
   "metadata": {},
   "outputs": [
    {
     "name": "stdin",
     "output_type": "stream",
     "text": [
      "Enter your name: joao\n",
      "Enter your weirdest habit: python\n",
      "Enter your favourite hobbie: padel\n",
      "Enter your best quality: sportinguista\n"
     ]
    },
    {
     "name": "stdout",
     "output_type": "stream",
     "text": [
      "Resultados\n",
      "Hello. My name is :joao. My weirdest habit is python and my favourite hobbie is padel. I think my best Quality: sportinguista\n",
      "['joao', 'python', 'padel', 'sportinguista']\n"
     ]
    }
   ],
   "source": [
    "### BUILD YOUR APP HERE\n",
    "name = input(\"Enter your name:\") \n",
    "habit = input(\"Enter your weirdest habit:\")\n",
    "hobbie  = input(\"Enter your favourite hobbie:\")\n",
    "quality = input(\"Enter your best quality:\")\n",
    "\n",
    "\n",
    "\n",
    "print(\"Resultados\")\n",
    "print(f\"Hello. My name is :{name}. My weirdest habit is {habit} and my favourite hobbie is {hobbie}. I think my best Quality: {quality}\")\n",
    "\n",
    "#list\n",
    "user_specs = [name,habit,hobbie,quality]\n",
    "\n",
    "print(user_specs)\n",
    "\n"
   ]
  },
  {
   "cell_type": "code",
   "execution_count": 46,
   "metadata": {},
   "outputs": [
    {
     "name": "stdout",
     "output_type": "stream",
     "text": [
      "{'Name': 'joao', 'Habit': 'python', 'Hobbie': 'padel', 'Quality': 'sportinguista'}\n",
      "{'Name': 'joao', 'Habit': 'python', 'Hobbie': 'padel', 'Quality': 'sportinguista', 'Idade': 44}\n"
     ]
    }
   ],
   "source": [
    "#nomevariavel:variavel\n",
    "my_dict = {\"Name\":name , \"Habit\":habit , \"Hobbie\":hobbie , \"Quality\":quality}\n",
    "\n",
    "print(my_dict)\n",
    "\n",
    "my_dict[\"Idade\"]=45\n",
    "my_dict[\"Idade\"]=44\n",
    "\n",
    "print(my_dict)"
   ]
  },
  {
   "cell_type": "code",
   "execution_count": 85,
   "metadata": {},
   "outputs": [
    {
     "name": "stdout",
     "output_type": "stream",
     "text": [
      "Chaves->{'Quality', 'Idade', 'Hobbie', 'Name', 'Habit'}\n",
      "Cruzamento: {'Hobbie'} e não cruza {'name', 'height', 'profession'}\n"
     ]
    }
   ],
   "source": [
    "lista_chave=my_dict.keys()\n",
    "#print(lista_chave)\n",
    "#print(type(lista_chave))\n",
    "real_lista_chave=list(my_dict.keys())\n",
    "#print(real_lista_chave)\n",
    "\n",
    "\n",
    "\n",
    "lista_valores=list(my_dict.values())\n",
    "#print(lista_valores)\n",
    "\n",
    "set_list_valores=set(lista_valores)\n",
    "#print(set_list_valores)\n",
    "#print(type(set_list_valores))\n",
    "\n",
    "set_chave=set(list(my_dict.keys()))\n",
    "print(f\"Chaves->{set_chave}\")\n",
    "\n",
    "\n",
    "other_set = {'name','profession','height','Hobbie'}\n",
    "\n",
    "cross = set_chave.intersection(other_set)\n",
    "diff = other_set.difference(set_chave)\n",
    "\n",
    "print(f\"Cruzamento: {cross} e não cruza {diff}\")\n",
    "\n",
    "\n",
    "\n",
    "\n",
    "\n",
    "\n",
    "\n"
   ]
  },
  {
   "cell_type": "markdown",
   "metadata": {},
   "source": [
    "## Choosing Data Types\n",
    "\n",
    "For the following variables, assign the most appropriate data type:\n",
    "\n",
    "  1. A cat's name;\n",
    "  2. Personality traits of your colleague;\n",
    "  3. Conversion rate mile to kilometer;\n",
    "  4. Translation between spanish and english, word by word (like in the old-time Google Translate);\n",
    "  5. Number of olympic swimming pools in the world"
   ]
  },
  {
   "cell_type": "code",
   "execution_count": 2,
   "metadata": {},
   "outputs": [],
   "source": [
    "### ASSIGN DATA TYPES HERE\n",
    "# Cat's name -\n",
    "# Personality traits -\n",
    "# Conversion rate km/mile -\n",
    "# Translation es/en -\n",
    "# Swimming pools -"
   ]
  },
  {
   "cell_type": "markdown",
   "metadata": {},
   "source": [
    "\n",
    "## Googling Skills\n",
    "\n",
    "Search what is the Pythonic way to\n",
    "- Get the number of items in a dict, set, tuple and list\n",
    "- Check if an element exists in a dict, set, tuple or list\n",
    "- Change the value of a specific element in a list (e.g. 2nd item) \n",
    "- Reverse the items in a list"
   ]
  },
  {
   "cell_type": "code",
   "execution_count": 12,
   "metadata": {
    "slideshow": {
     "slide_type": "slide"
    },
    "tags": []
   },
   "outputs": [
    {
     "name": "stdout",
     "output_type": "stream",
     "text": [
      "['Jesus', 'Joao', 'Zé']\n",
      "[('Zé', 35), ('Joao', 38), ('Jesus', 2023)]\n"
     ]
    }
   ],
   "source": [
    "### SOLUTION\n",
    "# number of items - len\n",
    "# element exists - if elelement in [list}\n",
    "# change value -  [\n",
    "# reverse items - lista.reverse()\n",
    "\n",
    "#order a dictionary by values - lista\n",
    "\n",
    "\n",
    "my_dict = { \"Joao\" : 38 , \"Zé\" : 35 , \"Jesus\" : 2023 }\n",
    "\n",
    "sorted_dict = sorted(my_dict)\n",
    "print(sorted_dict)\n",
    "\n",
    "sorted_dict_2 = sorted(my_dict.items() , key=lambda x:x[1])\n",
    "print(sorted_dict_2)\n"
   ]
  },
  {
   "cell_type": "code",
   "execution_count": null,
   "metadata": {},
   "outputs": [],
   "source": []
  },
  {
   "cell_type": "markdown",
   "metadata": {},
   "source": [
    "## Iteration Flow"
   ]
  },
  {
   "cell_type": "markdown",
   "metadata": {},
   "source": [
    "### Exercise 1 - Choice Master\n",
    "\n",
    "**(NO CODE)** Choose the most appropriate flow control for the imaginary applications below. Choose from if-else, while, for, continue, break.\n",
    "\n",
    "- 1: Given a list of people `['John', 'Maggie', 'Mark']`, greet them by name (print \"Hi\" + name) \n",
    "- 2: Wait until the user gives you a correct input.\n",
    "- 3: Between 1 and 10, print the numbers 6 and 7. Skip everything else."
   ]
  },
  {
   "cell_type": "code",
   "execution_count": 124,
   "metadata": {},
   "outputs": [
    {
     "name": "stdout",
     "output_type": "stream",
     "text": [
      "[6, 7]\n"
     ]
    }
   ],
   "source": [
    "### INSERT SOLUTION\n",
    "\n",
    "#1-for\n",
    "#2-while\n",
    "#3- \n",
    "\n",
    "#for i in range(1,11):\n",
    " #   if i == 6 or i == 7 : \n",
    "  #     print(i)\n",
    "\n",
    "new_list = [i for i in range(1,11) if i==6 or i==7  ]\n",
    "print(new_list)"
   ]
  },
  {
   "cell_type": "markdown",
   "metadata": {},
   "source": [
    "### Exercise 2 - Happy New Year\n",
    "\n",
    "Create two New Year's Countdowns, one with `while` and one with `for` loops. At \"midnight\", print \"HAPPY NEW YEAR FOLKS!\".\n",
    "\n",
    "*Tip: don't forget the `range` from Session 1."
   ]
  },
  {
   "cell_type": "code",
   "execution_count": 156,
   "metadata": {},
   "outputs": [
    {
     "name": "stdout",
     "output_type": "stream",
     "text": [
      "24\n",
      "12\n",
      "0\n",
      "Happy New Year!\n",
      "[24, 23, 22, 21, 20, 19, 18, 17, 16, 15, 14, 13, 12, 11, 10, 9, 8, 7, 6, 5, 4, 3, 2, 1, 'Happy New Year!']\n"
     ]
    }
   ],
   "source": [
    "### INSERT SOLUTION\n",
    "\n",
    "#hours = 24                        \n",
    "#while hours >= 0:                  \n",
    "#    print(hours)                  \n",
    "#    hours -= 1                    \n",
    "#else:                               \n",
    "#    print(\"Happy New Year!\") \n",
    "    \n",
    "\n",
    "for i in range(24,-1,-12):\n",
    "    print(i)\n",
    "    if i == 0 :\n",
    "       print(\"Happy New Year!\") \n",
    "    \n",
    "new_list = list(reversed([i if i >0 else \"Happy New Year!\" for i in range(0,25)]))\n",
    "print(new_list)\n",
    "\n",
    "        "
   ]
  },
  {
   "cell_type": "markdown",
   "metadata": {},
   "source": [
    "### Exercise 3 - Large Caps\n",
    "\n",
    "Given the dict below of companies with largest market cap, create a new `marketcap_large` dictionary containing only companies above 2$T."
   ]
  },
  {
   "cell_type": "code",
   "execution_count": null,
   "metadata": {},
   "outputs": [],
   "source": [
    "# Market Capitalization, in $T\n",
    "marketcap = {\n",
    "    \"Apple\": 2.537, \n",
    "    \"Saudi Aramco\": 2.392, \n",
    "    \"Microsoft\": 2.074, \n",
    "    \"Alphabet\": 1.535, \n",
    "    \"Amazon\": 1.184\n",
    "}"
   ]
  },
  {
   "cell_type": "code",
   "execution_count": null,
   "metadata": {},
   "outputs": [],
   "source": [
    "### INSERT SOLUTION"
   ]
  },
  {
   "cell_type": "markdown",
   "metadata": {},
   "source": [
    "### Exercise 4 - Months\n",
    "\n",
    "test_list = [\"Jan\",\"Feb\",\"Mar\",\"Apr\",\"May\",\"Jun\",Jul\",\"Aug\",\"Sep\",\"Oct\",\"Nov\",\"Dec\"]\n",
    "\n",
    "using this test_list, print all months in the year that have 31 days. If they start with an M, print them uppercased"
   ]
  },
  {
   "cell_type": "code",
   "execution_count": null,
   "metadata": {},
   "outputs": [],
   "source": [
    "### INSERT SOLUTION"
   ]
  },
  {
   "cell_type": "markdown",
   "metadata": {},
   "source": [
    "<img src=media/congratulations.png width=900/>"
   ]
  },
  {
   "cell_type": "markdown",
   "metadata": {},
   "source": [
    "### Congratulations!! You've successfully finished the first session of Python 101! \n",
    "\n",
    "#### Go take a rest and we'll see again in session 02\n",
    "\n"
   ]
  },
  {
   "cell_type": "markdown",
   "metadata": {},
   "source": [
    "<img src=media/session1_ending.png width=900/>"
   ]
  },
  {
   "cell_type": "markdown",
   "metadata": {},
   "source": []
  }
 ],
 "metadata": {
  "interpreter": {
   "hash": "62450144029c700d9828a520a84c849f57ec997bbb5cd86252d9dcd358a93bcf"
  },
  "kernelspec": {
   "display_name": "Python 3 (ipykernel)",
   "language": "python",
   "name": "python3"
  },
  "language_info": {
   "codemirror_mode": {
    "name": "ipython",
    "version": 3
   },
   "file_extension": ".py",
   "mimetype": "text/x-python",
   "name": "python",
   "nbconvert_exporter": "python",
   "pygments_lexer": "ipython3",
   "version": "3.10.9"
  }
 },
 "nbformat": 4,
 "nbformat_minor": 4
}
